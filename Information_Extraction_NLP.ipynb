{
  "nbformat": 4,
  "nbformat_minor": 0,
  "metadata": {
    "colab": {
      "name": "Information_Extraction_NLP.ipynb",
      "provenance": [],
      "collapsed_sections": []
    },
    "kernelspec": {
      "name": "python3",
      "display_name": "Python 3"
    },
    "language_info": {
      "name": "python"
    }
  },
  "cells": [
    {
      "cell_type": "markdown",
      "source": [
        "#Information Extraction"
      ],
      "metadata": {
        "id": "jhNe97PwexuO"
      }
    },
    {
      "cell_type": "markdown",
      "source": [
        "Importing important libraries"
      ],
      "metadata": {
        "id": "mfiB9jYpe4rG"
      }
    },
    {
      "cell_type": "code",
      "execution_count": null,
      "metadata": {
        "id": "EymVwrmpet-_"
      },
      "outputs": [],
      "source": [
        "# Using several libraries\n",
        "\n",
        "import pandas as pd # to import the dataset\n",
        "import spacy # for name entity recognition\n",
        "\n",
        "import re # for regular expression\n"
      ]
    },
    {
      "cell_type": "code",
      "source": [
        "Address_Data = pd.read_csv(\"/content/drive/MyDrive/addresses.csv\")"
      ],
      "metadata": {
        "id": "h5OFb_zDfSpY"
      },
      "execution_count": null,
      "outputs": []
    },
    {
      "cell_type": "markdown",
      "source": [
        "**The dataset contains the following** <br>\n",
        "The return to address that you usually find on the packaging of a product. <br>\n"
      ],
      "metadata": {
        "id": "TgiFdHtafZ45"
      }
    },
    {
      "cell_type": "markdown",
      "source": [
        "# Data pre-processing"
      ],
      "metadata": {
        "id": "dYgLTXnUffhh"
      }
    },
    {
      "cell_type": "code",
      "source": [
        "Missing_Values = Address_Data.isna().any()\n",
        "Missing_Values"
      ],
      "metadata": {
        "colab": {
          "base_uri": "https://localhost:8080/"
        },
        "id": "C9QrDGdnfh2g",
        "outputId": "84c90cbb-7a29-4dc9-e4d8-47b556433329"
      },
      "execution_count": null,
      "outputs": [
        {
          "output_type": "execute_result",
          "data": {
            "text/plain": [
              "returnTo     False\n",
              "frequency    False\n",
              "dtype: bool"
            ]
          },
          "metadata": {},
          "execution_count": 4
        }
      ]
    },
    {
      "cell_type": "code",
      "source": [
        "Address_Data.shape"
      ],
      "metadata": {
        "colab": {
          "base_uri": "https://localhost:8080/"
        },
        "id": "kCv3men0fze3",
        "outputId": "2e5178b7-0a60-4b35-f187-c768155a5c9a"
      },
      "execution_count": null,
      "outputs": [
        {
          "output_type": "execute_result",
          "data": {
            "text/plain": [
              "(977, 2)"
            ]
          },
          "metadata": {},
          "execution_count": 5
        }
      ]
    },
    {
      "cell_type": "code",
      "source": [
        "# New_DataFrame = Address_Data.drop_duplicates()\n"
      ],
      "metadata": {
        "id": "w9Z07uFhf33s"
      },
      "execution_count": null,
      "outputs": []
    },
    {
      "cell_type": "markdown",
      "source": [
        "Extract the following entities from the column: <br>\n",
        "•\tcompanyName <br>\n",
        "•\tcompanyAddress <br>\n",
        "•\twebAddress <br>\n",
        "•\temailAddress <br>\n",
        "•\ttelephoneNo\n",
        "\n"
      ],
      "metadata": {
        "id": "iKfdRqUxgHyU"
      }
    },
    {
      "cell_type": "code",
      "source": [
        "Address_Data.shape[0]"
      ],
      "metadata": {
        "colab": {
          "base_uri": "https://localhost:8080/"
        },
        "id": "_4sMtE1XILzA",
        "outputId": "9cf2a741-77b5-4bfa-d3e0-8925efd49cce"
      },
      "execution_count": null,
      "outputs": [
        {
          "output_type": "execute_result",
          "data": {
            "text/plain": [
              "977"
            ]
          },
          "metadata": {},
          "execution_count": 7
        }
      ]
    },
    {
      "cell_type": "code",
      "source": [
        "Address_Data['returnTo'][1]"
      ],
      "metadata": {
        "colab": {
          "base_uri": "https://localhost:8080/",
          "height": 35
        },
        "id": "_AvaY36fMxZ-",
        "outputId": "de10a9b4-708f-4c61-d086-2d15fceb524e"
      },
      "execution_count": null,
      "outputs": [
        {
          "output_type": "execute_result",
          "data": {
            "text/plain": [
              "'Coty UK & I Ltd, Rimmel London, SW19 4DR.'"
            ],
            "application/vnd.google.colaboratory.intrinsic+json": {
              "type": "string"
            }
          },
          "metadata": {},
          "execution_count": 8
        }
      ]
    },
    {
      "cell_type": "markdown",
      "source": [
        "#Task: 1\n",
        "\n",
        "Use a NON machine learning approach to achieve the goal. You can use a pretrained NLP model if you think it might be helpful"
      ],
      "metadata": {
        "id": "kxBEQrZepaML"
      }
    },
    {
      "cell_type": "markdown",
      "source": [
        "#Approach 1\n"
      ],
      "metadata": {
        "id": "3uaAIdgIuT_c"
      }
    },
    {
      "cell_type": "code",
      "source": [
        "empty_list = [] # creating an empty list so that I can append into the list \n",
        "\n",
        "for i in range(0,len(Address_Data)):\n",
        "\n",
        "  empty_list.append(Address_Data['returnTo'][i])\n",
        "  doc = nlp_obj(empty_list[i])  # creating a spacy object \n",
        "  \n",
        "  for ent in doc.ents:\n",
        "    print(ent.text,ent.label_) #The entity type can be accessed via ent.label as a hash value or ent.label_ as a string."
      ],
      "metadata": {
        "id": "yLY5x_SCuZbo"
      },
      "execution_count": null,
      "outputs": []
    },
    {
      "cell_type": "markdown",
      "source": [
        "#My Approach \n",
        "Initial Approach to extract the data using built in spacy library. It is used for name entity recognition (NER). Extracting relevant and usable information from unstructured raw text sources is known as information retrieval. NER locates and categorises identified entities included in unstructured text into standard categories such as person names, locations, organisations, time expressions, amounts, monetary values, percentages, codes, and so on. However, only organization name extraction is possible via this process."
      ],
      "metadata": {
        "id": "5mj2z3p2k4C-"
      }
    },
    {
      "cell_type": "code",
      "source": [
        "nlp_obj = spacy.load('en_core_web_sm')  # Creating an spacy object using english \n"
      ],
      "metadata": {
        "id": "vkfUuUw2rjps"
      },
      "execution_count": null,
      "outputs": []
    },
    {
      "cell_type": "code",
      "source": [
        "document = nlp_obj(Address_Data['returnTo'][1])\n",
        "\n",
        "from spacy import displacy\n",
        "displacy.render(document, style = 'ent', jupyter = True)"
      ],
      "metadata": {
        "colab": {
          "base_uri": "https://localhost:8080/",
          "height": 52
        },
        "id": "q4QItIDStddV",
        "outputId": "261dced2-f9d4-48fb-c2dc-84ef226ea5d4"
      },
      "execution_count": null,
      "outputs": [
        {
          "output_type": "display_data",
          "data": {
            "text/plain": [
              "<IPython.core.display.HTML object>"
            ],
            "text/html": [
              "<span class=\"tex2jax_ignore\"><div class=\"entities\" style=\"line-height: 2.5; direction: ltr\">\n",
              "<mark class=\"entity\" style=\"background: #7aecec; padding: 0.45em 0.6em; margin: 0 0.25em; line-height: 1; border-radius: 0.35em;\">\n",
              "    Coty UK &amp; I Ltd\n",
              "    <span style=\"font-size: 0.8em; font-weight: bold; line-height: 1; border-radius: 0.35em; text-transform: uppercase; vertical-align: middle; margin-left: 0.5rem\">ORG</span>\n",
              "</mark>\n",
              ", \n",
              "<mark class=\"entity\" style=\"background: #aa9cfc; padding: 0.45em 0.6em; margin: 0 0.25em; line-height: 1; border-radius: 0.35em;\">\n",
              "    Rimmel London\n",
              "    <span style=\"font-size: 0.8em; font-weight: bold; line-height: 1; border-radius: 0.35em; text-transform: uppercase; vertical-align: middle; margin-left: 0.5rem\">PERSON</span>\n",
              "</mark>\n",
              ", SW19 4DR.</div></span>"
            ]
          },
          "metadata": {}
        }
      ]
    },
    {
      "cell_type": "markdown",
      "source": [
        "The output recieved using this technique is not what I expect as output as it can only extract Organisation name."
      ],
      "metadata": {
        "id": "BG1IcCa9op19"
      }
    },
    {
      "cell_type": "markdown",
      "source": [
        "Creating a class to extract all the information of the company. The data is unstructured. How to find relevant information from those text. Using spacy, organisation name have been extracted. However, for extraxting email, address, phone number and web addres Regex (regular expression) have been used. Later an object of that class has been created and all the information is retrieved only by calling the function."
      ],
      "metadata": {
        "id": "UFDGphISjz75"
      }
    },
    {
      "cell_type": "markdown",
      "source": [
        "The advantage of using this approach is that when conducting unit test it is more efficient and it will be easy to test."
      ],
      "metadata": {
        "id": "di4oa4yPwmes"
      }
    },
    {
      "cell_type": "code",
      "source": [
        "class InfoExtractor:\n",
        "  \n",
        "  # import re #for regular expression\n",
        "  def __init__(self,string): # avoid repeatation so that it has the ability to use global variable within a class. \n",
        "    self.string = string\n",
        "\n",
        "\n",
        "  # This function is intended to fetch the name of the company\n",
        "  def getName(self):\n",
        "    doc = nlp_obj(self.string)\n",
        "    \n",
        "    for ent in doc.ents:\n",
        "      print(ent)\n",
        "      return('companyName:',ent.text)\n",
        "\n",
        "  # This function fetches the address of the company  \n",
        "  # docstring can be used\n",
        "  # PPE class names ---\n",
        "  def getAddress(self):\n",
        "    r = re.compile(r'(GIR 0AA|[A-PR-UWYZ]([0-9][0-9A-HJKPS-UW]?|[A-HK-Y][0-9][0-9ABEHMNPRV-Y]?) [0-9][ABD-HJLNP-UW-Z]{2})')\n",
        "    List_a = r.findall(self.string)\n",
        "    string_con_a = ''.join([str(i) for i in List_a]) \n",
        "  \n",
        "    return ('companyAddress:',string_con_a)\n",
        "\n",
        "  \n",
        "# This function fetches the phone number of the company\n",
        "  def getPhoneNo(self):\n",
        "    r = re.compile(r'(\\d{3}[-\\.\\s]??\\d{3}[-\\.\\s]??\\d{4}|\\(\\d{3}\\)\\s*\\d{3}[-\\.\\s]??\\d{4}|\\d{3}[-\\.\\s]??\\d{4})')\n",
        "    phone_numbers = r.findall(self.string)\n",
        "    List_p = [re.sub(r'\\D', '', number) for number in phone_numbers]\n",
        "    string_conv = ''.join([str(i) for i in List_p])\n",
        "    return ('telephoneNo:', string_conv)\n",
        "\n",
        " # This function fetches the email address of the company \n",
        "  def getEmail(self):\n",
        "    r = re.compile(r'[\\w\\.-]+@[\\w\\.-]+')\n",
        "    List_e = r.findall(self.string)\n",
        "    string_con_e = ''.join([str(i) for i in List_e])\n",
        "    return ('emailAddress:',string_con_e)\n",
        "\n",
        "\n",
        "# This function fetches the web address of the company\n",
        "  def getWeb(self):\n",
        "    r = re.compile(r'https?:\\/\\/(www\\.)?[-a-zA-Z0-9@:%._\\+~#=]{1,256}\\.[a-zA-Z0-9()]{1,6}\\b([-a-zA-Z0-9()@:%_\\+.~#?&//=]*)')\n",
        "    List_w = r.findall(self.string)\n",
        "    string_con_w = ''.join([str(i) for i in List_w])\n",
        "    return ('webAddress:',string_con_w)\n"
      ],
      "metadata": {
        "id": "n7sYSy135Etq"
      },
      "execution_count": null,
      "outputs": []
    },
    {
      "cell_type": "code",
      "source": [
        "# Creating an object of InfoExtractor class\n",
        "info = InfoExtractor(Address_Data['returnTo'][99])\n",
        "print(info.getName())\n",
        "print(info.getAddress())\n",
        "print(info.getEmail())\n",
        "print(info.getPhoneNo())\n",
        "print(info.getWeb())\n"
      ],
      "metadata": {
        "colab": {
          "base_uri": "https://localhost:8080/"
        },
        "id": "98xLURnKrx0d",
        "outputId": "6b7a8917-374c-4082-a400-a58bd923438d"
      },
      "execution_count": null,
      "outputs": [
        {
          "output_type": "stream",
          "name": "stdout",
          "text": [
            "Munchkin Inc\n",
            "('companyName:', 'Munchkin Inc')\n",
            "('companyAddress:', \"('WF10 5HX', 'F10')\")\n",
            "('emailAddress:', 'careline@munchkin.com')\n",
            "('telephoneNo:', '')\n",
            "('webAddress:', '')\n"
          ]
        }
      ]
    },
    {
      "cell_type": "code",
      "source": [
        "print(Address_Data['returnTo'][100])"
      ],
      "metadata": {
        "colab": {
          "base_uri": "https://localhost:8080/"
        },
        "id": "xTLgX3YdsTY7",
        "outputId": "cf85f933-6529-4bd9-8f9f-3db42bb781e7"
      },
      "execution_count": null,
      "outputs": [
        {
          "output_type": "stream",
          "name": "stdout",
          "text": [
            "E.T. Browne (U.K.) Ltd., Loughton, IG10 3FL, U.K. www.palmers.com\n"
          ]
        }
      ]
    }
  ]
}